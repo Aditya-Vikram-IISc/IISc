{
 "cells": [
  {
   "cell_type": "markdown",
   "metadata": {},
   "source": [
    "# Problem Statement: \n",
    "In this assignment you are to implement the Apriori algorithm for identifying the frequent item sets using the MapReduce framework. A sample data set from kaggle giving the transactions in a super market is provided to test your implementation. Identify top 5 association rules that you find interesting with explanation."
   ]
  },
  {
   "cell_type": "markdown",
   "metadata": {},
   "source": [
    "### *Approach Overview*\n",
    "\n",
    "**Step1**: Calculate the support of each individual items  \n",
    "**Step2**: Calculate the confidence of every pair of items  \n",
    "**Step3**: Calculate the lift of every pair of items  \n",
    "**Step4**: Eliminate the datapoints where support is less than a threshold value  \n",
    "**Step5**: Eliminate the datapoints where pair_confidence is less than a threshold value  \n",
    "**Step6**: Sort the rules by lift "
   ]
  },
  {
   "cell_type": "markdown",
   "metadata": {},
   "source": [
    "### Step1: Getting Support of individual items"
   ]
  },
  {
   "cell_type": "code",
   "execution_count": 5,
   "metadata": {},
   "outputs": [
    {
     "name": "stdout",
     "output_type": "stream",
     "text": [
      "Overwriting map1.py\n"
     ]
    }
   ],
   "source": [
    "%%file map1.py\n",
    "import sys\n",
    "\n",
    "header = sys.stdin.readline()\n",
    "\n",
    "\n",
    "for line in sys.stdin:\n",
    "    data = line.strip().split(\",\")\n",
    "    counter = int(data[0])\n",
    "    \n",
    "    for i in range(1, counter+1):\n",
    "        print(\"%s\\t%s\" % (data[i], 1))"
   ]
  },
  {
   "cell_type": "code",
   "execution_count": 6,
   "metadata": {
    "scrolled": false
   },
   "outputs": [],
   "source": [
    "!type groceries.csv | python map1.py | sort > A2mapoutput1.txt"
   ]
  },
  {
   "cell_type": "code",
   "execution_count": 7,
   "metadata": {},
   "outputs": [
    {
     "name": "stdout",
     "output_type": "stream",
     "text": [
      "Overwriting reduce1.py\n"
     ]
    }
   ],
   "source": [
    "%%file reduce1.py\n",
    "import sys\n",
    "\n",
    "FREQUENCY = 9835                                     #Basis our data\n",
    "\n",
    "\n",
    "initial_data = sys.stdin.readline().strip().split(\"\\t\")\n",
    "curr_name = initial_data[0]\n",
    "curr_count = 1\n",
    "\n",
    "for line in sys.stdin:\n",
    "    data = line.strip().split(\"\\t\")\n",
    "    name = data[0]\n",
    "    \n",
    "    if curr_name == name:\n",
    "        curr_count += 1\n",
    "        \n",
    "    else:\n",
    "        print(\"%s\\t%s\" % (round(curr_count/FREQUENCY,5) ,curr_name))\n",
    "        curr_name = name\n",
    "        curr_count = 1\n",
    "        \n",
    "print(\"%s\\t%s\" % (round(curr_count/FREQUENCY,5) ,curr_name))"
   ]
  },
  {
   "cell_type": "code",
   "execution_count": 8,
   "metadata": {},
   "outputs": [],
   "source": [
    "!type A2mapoutput1.txt | python reduce1.py | sort /r > A2reduceoutput1.txt"
   ]
  },
  {
   "cell_type": "markdown",
   "metadata": {},
   "source": [
    "###### Sample output taken from A2reduceoutput1.txt\n",
    "\n",
    "**Format: [support , item]**\n",
    "\n",
    "0.25552\twhole milk  \n",
    "0.19349\tother vegetables  \n",
    "0.18393\trolls/buns  \n",
    "0.17438\tsoda  \n",
    "0.1395\tyogurt  \n",
    "0.11052\tbottled water  \n",
    "0.109\troot vegetables  \n",
    "0.10493\ttropical fruit  \n",
    "0.09853\tshopping bags  \n",
    "0.09395\tsausage  \n",
    "0.08897\tpastry  \n",
    "0.08277\tcitrus fruit  \n",
    "0.08053\tbottled beer  \n",
    "0.07982\tnewspapers  \n",
    "0.07768\tcanned beer "
   ]
  },
  {
   "cell_type": "markdown",
   "metadata": {},
   "source": [
    "### Step 2: Getting Support of pair of items"
   ]
  },
  {
   "cell_type": "code",
   "execution_count": 9,
   "metadata": {},
   "outputs": [
    {
     "name": "stdout",
     "output_type": "stream",
     "text": [
      "Overwriting map2.py\n"
     ]
    }
   ],
   "source": [
    "%%file map2.py\n",
    "import sys\n",
    "\n",
    "header = sys.stdin.readline()\n",
    "for line in sys.stdin:\n",
    "    data = line.strip().split(\",\")\n",
    "    counter = int(data[0])\n",
    "    item_data = data[1:]\n",
    "    \n",
    "    for i in range(counter):\n",
    "        for j in range(i+1, counter):\n",
    "            print(\"%s\\t%s\\t%s\" % (item_data[i], item_data[j],1))"
   ]
  },
  {
   "cell_type": "code",
   "execution_count": 10,
   "metadata": {},
   "outputs": [],
   "source": [
    "!type groceries.csv | python map2.py | sort  > A2mapoutput2.txt"
   ]
  },
  {
   "cell_type": "code",
   "execution_count": 13,
   "metadata": {},
   "outputs": [
    {
     "name": "stdout",
     "output_type": "stream",
     "text": [
      "Overwriting reduce2.py\n"
     ]
    }
   ],
   "source": [
    "%%file reduce2.py\n",
    "import sys\n",
    "\n",
    "FREQUENCY = 9835                                     #Basis our data\n",
    "\n",
    "initial_data = sys.stdin.readline().strip().split(\"\\t\")\n",
    "curr_name1 = initial_data[0]\n",
    "curr_name2 = initial_data[1]\n",
    "curr_count = 1\n",
    "\n",
    "for line in sys.stdin:\n",
    "    data = line.strip().split(\"\\t\")\n",
    "    name1 = data[0]\n",
    "    name2 = data[1]\n",
    "    \n",
    "    if curr_name1 == name1 and curr_name2 == name2:\n",
    "        curr_count +=1\n",
    "    \n",
    "    else:\n",
    "        print(\"%s\\t%s\\t%s\" % (round(curr_count/FREQUENCY,5) ,curr_name1, curr_name2))\n",
    "        curr_name1 = name1\n",
    "        curr_name2 = name2\n",
    "        curr_count = 1\n",
    "\n",
    "print(\"%s\\t%s\\t%s\" % (round(curr_count/FREQUENCY,5) ,curr_name1, curr_name2))"
   ]
  },
  {
   "cell_type": "code",
   "execution_count": 14,
   "metadata": {},
   "outputs": [],
   "source": [
    "!type A2mapoutput2.txt | python reduce2.py | sort /r  > A2reduceoutput2.txt"
   ]
  },
  {
   "cell_type": "markdown",
   "metadata": {},
   "source": [
    "##### Sample output taken from A2reduceoutput2.txt\n",
    "\n",
    "**Format: [ support of the pair, item1, item 2]**\n",
    "\n",
    "0.07483\tother vegetables\twhole milk  \n",
    "0.05663\twhole milk\t        rolls/buns  \n",
    "0.05602\twhole milk\t        yogurt  \n",
    "0.04891\troot vegetables\t    whole milk  \n",
    "0.04738\troot vegetables\t    other vegetables  \n",
    "0.04342\tother vegetables\tyogurt  \n",
    "0.0426\tother vegetables\trolls/buns  \n",
    "0.0423\ttropical fruit\t    whole milk  \n",
    "0.04006\twhole milk\t        soda  \n",
    "0.03833\trolls/buns\t        soda  \n",
    "0.03589\ttropical fruit\t    other vegetables  \n",
    "0.03437\tyogurt\t            rolls/buns  \n",
    "0.03437\twhole milk\t        bottled water   "
   ]
  },
  {
   "cell_type": "markdown",
   "metadata": {},
   "source": [
    "### Step 3: Calculating the confidence for our dataset"
   ]
  },
  {
   "cell_type": "code",
   "execution_count": 15,
   "metadata": {
    "scrolled": true
   },
   "outputs": [
    {
     "name": "stderr",
     "output_type": "stream",
     "text": [
      "\n",
      "A2reduceoutput1.txt\n",
      "\n",
      "\n",
      "\n",
      "A2reduceoutput2.txt\n",
      "\n",
      "\n"
     ]
    }
   ],
   "source": [
    "!type A2reduceoutput1.txt A2reduceoutput2.txt > A2jointoutput.txt"
   ]
  },
  {
   "cell_type": "code",
   "execution_count": 16,
   "metadata": {
    "scrolled": true
   },
   "outputs": [
    {
     "name": "stdout",
     "output_type": "stream",
     "text": [
      "Overwriting reduce3.py\n"
     ]
    }
   ],
   "source": [
    "%%file reduce3.py\n",
    "import sys\n",
    "\n",
    "my_dict1 = {}\n",
    "my_dict2 = {}\n",
    "\n",
    "for i in range(169):\n",
    "    data =  sys.stdin.readline().strip().split(\"\\t\")\n",
    "    support_1 = float(data[0])\n",
    "    key_val = data[1]\n",
    "    my_dict1[key_val] = support_1                    #Adding the individual key-value pair to my dictionary\n",
    "    \n",
    "    \n",
    "for j in range(9636):\n",
    "    data2 = sys.stdin.readline().strip().split(\"\\t\")\n",
    "    support_2 = float(data2[0])\n",
    "    key_val1 = data2[1]\n",
    "    key_val2 = data2[2]\n",
    "    \n",
    "    my_dict2[(key_val1, key_val2)] = support_2       #Adding both the pair of item set i.e. (A,B) and (B,A) to my dictionary\n",
    "    my_dict2[(key_val2, key_val1)] = support_2\n",
    "    \n",
    "    \n",
    "for key_pair in my_dict2.keys():\n",
    "    key1,key2 = key_pair                                                         #tuple unpacking\n",
    "    \n",
    "    conf_score_12 = round(my_dict2[(key1,key2)]/my_dict1[key1],5)                #calculating confidence of the pair  \n",
    "    lift = round(my_dict2[(key1,key2)]/(my_dict1[key1]*my_dict1[key2]),5)        #calculating LIFT of the pair\n",
    "    print(\"%s\\t%s\\t%s\\t%s\\t%s\\t%s\" % (lift,conf_score_12,my_dict1[key1],my_dict1[key2],key1, key2))  #print out the lift, confidence, support_key1,support_key2, key_1, key_2 "
   ]
  },
  {
   "cell_type": "code",
   "execution_count": 17,
   "metadata": {},
   "outputs": [],
   "source": [
    "!type A2jointoutput.txt | python reduce3.py | sort /r > A2finaloutput.txt"
   ]
  },
  {
   "cell_type": "markdown",
   "metadata": {},
   "source": [
    "##### Sample output taken from A2finaloutput.txt\n",
    "\n",
    "**Format: [lift, confidence, support_key1,support_key2, key_1, key_2 ] for key_1 => key_2**  \n",
    "\n",
    "\n",
    "96.33911\t0.5\t0.0002\t0.00519\tpreservation products\tspices  \n",
    "96.33911\t0.01927\t0.00519\t0.0002\tspices\tpreservation products  \n",
    "9.99295\t0.10363\t0.00193\t0.01037\tflower soil/fertilizer\tflower (seeds)  \n",
    "9.99295\t0.01929\t0.01037\t0.00193\tflower (seeds)\tflower soil/fertilizer  \n",
    "9.97606\t0.08929\t0.00224\t0.00895\torganic sausage\tcandles  \n",
    "9.97606\t0.02235\t0.00895\t0.00224\tcandles\torganic sausage  \n",
    "9.96612\t0.0578\t0.00173\t0.0058\tspecialty vegetables\tdental care  \n",
    "9.96612\t0.01724\t0.0058\t0.00173\tdental care\tspecialty vegetables  \n",
    "9.92891\t0.07576\t0.00132\t0.00763\tcream\trice  \n",
    "9.92891\t0.01311\t0.00763\t0.00132\trice\tcream  \n",
    "9.89751\t0.10363\t0.00193\t0.01047\tflower soil/fertilizer\tdish cleaner  \n",
    "9.89751\t0.0191\t0.01047\t0.00193\tdish cleaner\tflower soil/fertilizer  "
   ]
  },
  {
   "cell_type": "markdown",
   "metadata": {},
   "source": [
    "### Step 4: Filtering the results"
   ]
  },
  {
   "cell_type": "markdown",
   "metadata": {},
   "source": [
    "###### 1. We will now take A3finaloutput.txt as input in format [lift, confidence, support_key1, key_1, key_2 ] and start filtering the datapoints\n",
    "###### 2. First we will eliminate the datapoints where support is < threshold_value\n",
    "###### 3. Second, we will eliminate the datapoints where the confidence of the pair is < threshold_value\n",
    "###### 4. Sort is decreasing order of LIFT to get the most frequent dataset  "
   ]
  },
  {
   "cell_type": "code",
   "execution_count": 18,
   "metadata": {},
   "outputs": [
    {
     "name": "stdout",
     "output_type": "stream",
     "text": [
      "Overwriting filter.py\n"
     ]
    }
   ],
   "source": [
    "%%file filter.py\n",
    "import sys\n",
    "\n",
    "MIN_CONFIDENCE = 0.2                              #chosen basis our observation\n",
    "MIN_SUPPORT = 0.03                                #slected basis the onservation approx. equals to 300 counts\n",
    "MIN_LIFT = 3\n",
    "\n",
    "for line in sys.stdin:\n",
    "    my_data = line.strip().split(\"\\t\")\n",
    "    lift_value = float(my_data[0])\n",
    "    conf_value = float(my_data[1])\n",
    "    supp_value_key1 = float(my_data[2])\n",
    "    supp_value_key2 = float(my_data[3])\n",
    "    key_1 = my_data[4]\n",
    "    key_2 = my_data[5]\n",
    "    \n",
    "    if supp_value_key1 <= MIN_SUPPORT or supp_value_key2 <= MIN_SUPPORT :\n",
    "        continue\n",
    "        \n",
    "    if conf_value <= MIN_CONFIDENCE:\n",
    "        continue\n",
    "        \n",
    "    print(\"%s\\t%s\\t%s\\t%s\\t%s\\t%s\" % (lift_value,conf_value,supp_value_key1,supp_value_key2,key_1, key_2)) "
   ]
  },
  {
   "cell_type": "code",
   "execution_count": 20,
   "metadata": {},
   "outputs": [
    {
     "name": "stdout",
     "output_type": "stream",
     "text": [
      "3.79716\t0.27218\t0.03325\t0.07168\tberries\twhipped/sour cream\n",
      "3.04062\t0.33143\t0.05247\t0.109\tbeef\troot vegetables\n",
      "2.79874\t0.30506\t0.03101\t0.109\tonions\troot vegetables\n",
      "2.57497\t0.27019\t0.07565\t0.10493\tpip fruit\ttropical fruit\n",
      "2.37162\t0.45888\t0.03101\t0.19349\tonions\tother vegetables\n",
      "2.32625\t0.32451\t0.05328\t0.1395\tcurd\tyogurt\n",
      "2.32618\t0.25355\t0.04291\t0.109\tchicken\troot vegetables\n",
      "2.29475\t0.24079\t0.08277\t0.10493\tcitrus fruit\ttropical fruit\n",
      "2.27882\t0.31789\t0.03325\t0.1395\tberries\tyogurt\n",
      "2.24652\t0.43468\t0.109\t0.19349\troot vegetables\tother vegetables\n",
      "2.24652\t0.24487\t0.19349\t0.109\tother vegetables\troot vegetables\n",
      "2.24184\t0.31274\t0.03965\t0.1395\tcream cheese\tyogurt\n",
      "2.21107\t0.24101\t0.04809\t0.109\tfrozen vegetables\troot vegetables\n",
      "2.18607\t0.23828\t0.07168\t0.109\twhipped/sour cream\troot vegetables\n",
      "2.16746\t0.23625\t0.05765\t0.109\tpork\troot vegetables\n",
      "2.15594\t0.41715\t0.04291\t0.19349\tchicken\tother vegetables\n",
      "2.14967\t0.41594\t0.03325\t0.19349\thamburger meat\tother vegetables\n",
      "2.13753\t0.23299\t0.05541\t0.109\tbutter\troot vegetables\n",
      "2.08229\t0.4029\t0.07168\t0.19349\twhipped/sour cream\tother vegetables\n",
      "2.07413\t0.28934\t0.07168\t0.1395\twhipped/sour cream\tyogurt\n",
      "2.07344\t0.226\t0.06345\t0.109\tdomestic eggs\troot vegetables\n",
      "2.00031\t0.27904\t0.10493\t0.1395\ttropical fruit\tyogurt\n",
      "2.00031\t0.20989\t0.1395\t0.10493\tyogurt\ttropical fruit\n",
      "1.98004\t0.21883\t0.03345\t0.11052\tUHT-milk\tbottled water\n",
      "1.97894\t0.20765\t0.04209\t0.10493\twhite bread\ttropical fruit\n",
      "1.96078\t0.21372\t0.08277\t0.109\tcitrus fruit\troot vegetables\n",
      "1.94585\t0.4972\t0.05541\t0.25552\tbutter\twhole milk\n",
      "1.94338\t0.37602\t0.05247\t0.19349\tbeef\tother vegetables\n",
      "1.94178\t0.37572\t0.05765\t0.19349\tpork\tother vegetables\n",
      "1.94133\t0.2037\t0.03294\t0.10493\thygiene articles\ttropical fruit\n",
      "1.92323\t0.2018\t0.03325\t0.10493\tberries\ttropical fruit\n",
      "1.91933\t0.49043\t0.05328\t0.25552\tcurd\twhole milk\n",
      "1.91189\t0.36993\t0.04809\t0.19349\tfrozen vegetables\tother vegetables\n",
      "1.90463\t0.2657\t0.03711\t0.1395\tdessert\tyogurt\n",
      "1.89399\t0.26421\t0.05541\t0.1395\tbutter\tyogurt\n",
      "1.88701\t0.20568\t0.07565\t0.109\tpip fruit\troot vegetables\n",
      "1.87591\t0.26169\t0.08277\t0.1395\tcitrus fruit\tyogurt\n",
      "1.87343\t0.2042\t0.05328\t0.109\tcurd\troot vegetables\n",
      "1.86825\t0.36149\t0.05541\t0.19349\tbutter\tother vegetables\n",
      "1.85533\t0.25882\t0.07229\t0.1395\tfruit/vegetable juice\tyogurt\n",
      "1.84978\t0.47266\t0.06345\t0.25552\tdomestic eggs\twhole milk\n",
      "1.84839\t0.25785\t0.04809\t0.1395\tfrozen vegetables\tyogurt\n",
      "1.84046\t0.20061\t0.10493\t0.109\ttropical fruit\troot vegetables\n",
      "1.81397\t0.35099\t0.06345\t0.19349\tdomestic eggs\tother vegetables\n",
      "1.80329\t0.34892\t0.08277\t0.19349\tcitrus fruit\tother vegetables\n",
      "1.78965\t0.34628\t0.03965\t0.19349\tcream cheese\tother vegetables\n",
      "1.78514\t0.34541\t0.07565\t0.19349\tpip fruit\tother vegetables\n",
      "1.77202\t0.32593\t0.05897\t0.18393\tfrankfurter\trolls/buns\n",
      "1.77081\t0.32571\t0.09395\t0.18393\tsausage\trolls/buns\n",
      "1.76773\t0.34204\t0.10493\t0.19349\ttropical fruit\tother vegetables\n",
      "1.7597\t0.44964\t0.07168\t0.25552\twhipped/sour cream\twhole milk\n",
      "1.75609\t0.44872\t0.109\t0.25552\troot vegetables\twhole milk\n",
      "1.74163\t0.24296\t0.05857\t0.1395\tmargarine\tyogurt\n",
      "1.74098\t0.33686\t0.05857\t0.19349\tmargarine\tother vegetables\n",
      "1.7395\t0.44448\t0.03386\t0.25552\tsugar\twhole milk\n",
      "1.73493\t0.44331\t0.03325\t0.25552\thamburger meat\twhole milk\n",
      "1.70565\t0.23794\t0.07565\t0.1395\tpip fruit\tyogurt\n",
      "1.69873\t0.23697\t0.109\t0.1395\troot vegetables\tyogurt\n",
      "1.6859\t0.32621\t0.04209\t0.19349\twhite bread\tother vegetables\n",
      "1.68396\t0.23491\t0.05236\t0.1395\tnapkins\tyogurt\n",
      "1.6743\t0.23356\t0.03742\t0.1395\tlong life bakery product\tyogurt\n",
      "1.66902\t0.23283\t0.03101\t0.1395\tonions\tyogurt\n",
      "1.66648\t0.32245\t0.05328\t0.19349\tcurd\tother vegetables\n",
      "1.66342\t0.42504\t0.04809\t0.25552\tfrozen vegetables\twhole milk\n",
      "1.64541\t0.31837\t0.03386\t0.19349\tsugar\tother vegetables\n",
      "1.62564\t0.41538\t0.03965\t0.25552\tcream cheese\twhole milk\n",
      "1.62011\t0.226\t0.06345\t0.1395\tdomestic eggs\tyogurt\n",
      "1.61702\t0.41318\t0.05857\t0.25552\tmargarine\twhole milk\n",
      "1.61411\t0.31231\t0.03711\t0.19349\tdessert\tother vegetables\n",
      "1.60863\t0.31125\t0.1395\t0.19349\tyogurt\tother vegetables\n",
      "1.60863\t0.2244\t0.19349\t0.1395\tother vegetables\tyogurt\n",
      "1.60674\t0.22414\t0.06487\t0.1395\tbrown bread\tyogurt\n",
      "1.60429\t0.40993\t0.04291\t0.25552\tchicken\twhole milk\n",
      "1.59709\t0.22279\t0.05247\t0.1395\tbeef\tyogurt\n",
      "1.59632\t0.30887\t0.03325\t0.19349\tberries\tother vegetables\n",
      "1.59299\t0.22222\t0.03294\t0.1395\thygiene articles\tyogurt\n",
      "1.59013\t0.22182\t0.03345\t0.1395\tUHT-milk\tyogurt\n",
      "1.58812\t0.4058\t0.04209\t0.25552\twhite bread\twhole milk\n",
      "1.58498\t0.40499\t0.05247\t0.25552\tbeef\twhole milk\n",
      "1.57767\t0.40313\t0.10493\t0.25552\ttropical fruit\twhole milk\n",
      "1.57161\t0.40158\t0.1395\t0.25552\tyogurt\twhole milk\n",
      "1.57161\t0.21924\t0.25552\t0.1395\twhole milk\tyogurt\n",
      "1.56251\t0.27247\t0.04962\t0.17438\tchocolate\tsoda\n",
      "1.55716\t0.39788\t0.07565\t0.25552\tpip fruit\twhole milk\n",
      "1.54133\t0.21502\t0.04209\t0.1395\twhite bread\tyogurt\n",
      "1.52707\t0.3902\t0.03101\t0.25552\tonions\twhole milk\n",
      "1.52366\t0.2657\t0.03711\t0.17438\tdessert\tsoda\n",
      "1.52195\t0.38889\t0.03294\t0.25552\thygiene articles\twhole milk\n",
      "1.52152\t0.38878\t0.06487\t0.25552\tbrown bread\twhole milk\n",
      "1.51353\t0.38674\t0.19349\t0.25552\tother vegetables\twhole milk\n",
      "1.51353\t0.29285\t0.25552\t0.19349\twhole milk\tother vegetables\n",
      "1.50502\t0.38456\t0.05765\t0.25552\tpork\twhole milk\n",
      "1.50493\t0.29119\t0.07229\t0.19349\tfruit/vegetable juice\tother vegetables\n",
      "1.5037\t0.26221\t0.11052\t0.17438\tbottled water\tsoda\n",
      "1.49995\t0.29022\t0.03294\t0.19349\thygiene articles\tother vegetables\n",
      "1.49702\t0.20883\t0.09395\t0.1395\tsausage\tyogurt\n",
      "1.49064\t0.28842\t0.06487\t0.19349\tbrown bread\tother vegetables\n",
      "1.49051\t0.20793\t0.11052\t0.1395\tbottled water\tyogurt\n",
      "1.48324\t0.25865\t0.09395\t0.17438\tsausage\tsoda\n",
      "1.48198\t0.28675\t0.09395\t0.19349\tsausage\tother vegetables\n",
      "1.47506\t0.28541\t0.03742\t0.19349\tlong life bakery product\tother vegetables\n",
      "1.4747\t0.37681\t0.05236\t0.25552\tnapkins\twhole milk\n",
      "1.47312\t0.28503\t0.03782\t0.19349\tsalty snack\tother vegetables\n",
      "1.46291\t0.20408\t0.03386\t0.1395\tsugar\tyogurt\n",
      "1.46259\t0.37372\t0.08897\t0.25552\tpastry\twhole milk\n",
      "1.45963\t0.25453\t0.07229\t0.17438\tfruit/vegetable juice\tsoda\n",
      "1.44795\t0.36998\t0.03711\t0.25552\tdessert\twhole milk\n",
      "1.44346\t0.27929\t0.05897\t0.19349\tfrankfurter\tother vegetables\n",
      "1.44222\t0.36852\t0.07229\t0.25552\tfruit/vegetable juice\twhole milk\n",
      "1.44212\t0.36849\t0.08277\t0.25552\tcitrus fruit\twhole milk\n",
      "1.43234\t0.24977\t0.09853\t0.17438\tshopping bags\tsoda\n",
      "1.42656\t0.24876\t0.03843\t0.17438\twaffles\tsoda\n",
      "1.42531\t0.27578\t0.05236\t0.19349\tnapkins\tother vegetables\n",
      "1.41773\t0.24722\t0.03782\t0.17438\tsalty snack\tsoda\n",
      "1.414\t0.3613\t0.03742\t0.25552\tlong life bakery product\twhole milk\n",
      "1.41276\t0.25985\t0.03325\t0.18393\thamburger meat\trolls/buns\n",
      "1.41128\t0.25958\t0.05247\t0.18393\tbeef\trolls/buns\n",
      "1.39925\t0.244\t0.04209\t0.17438\twhite bread\tsoda\n",
      "1.38771\t0.35459\t0.03325\t0.25552\tberries\twhole milk\n",
      "1.36826\t0.25166\t0.05857\t0.18393\tmargarine\trolls/buns\n",
      "1.36573\t0.2512\t0.03965\t0.18393\tcream cheese\trolls/buns\n",
      "1.36315\t0.34831\t0.05897\t0.25552\tfrankfurter\twhole milk\n",
      "1.35679\t0.2366\t0.08897\t0.17438\tpastry\tsoda\n",
      "1.35426\t0.26203\t0.03843\t0.19349\twaffles\tother vegetables\n",
      "1.34389\t0.24718\t0.07982\t0.18393\tnewspapers\trolls/buns\n",
      "1.34186\t0.24681\t0.06345\t0.18393\tdomestic eggs\trolls/buns\n",
      "1.34098\t0.34265\t0.07982\t0.25552\tnewspapers\twhole milk\n",
      "1.33953\t0.24638\t0.1395\t0.18393\tyogurt\trolls/buns\n",
      "1.32382\t0.25615\t0.04962\t0.19349\tchocolate\tother vegetables\n",
      "1.31678\t0.24219\t0.05541\t0.18393\tbutter\trolls/buns\n",
      "1.31557\t0.33615\t0.04962\t0.25552\tchocolate\twhole milk\n",
      "1.31427\t0.22918\t0.05236\t0.17438\tnapkins\tsoda\n",
      "1.31108\t0.25368\t0.08897\t0.19349\tpastry\tother vegetables\n",
      "1.30807\t0.2281\t0.03345\t0.17438\tUHT-milk\tsoda\n",
      "1.29449\t0.2381\t0.03843\t0.18393\twaffles\trolls/buns\n",
      "1.29435\t0.33073\t0.03843\t0.25552\twaffles\twhole milk\n",
      "1.29183\t0.23761\t0.04962\t0.18393\tchocolate\trolls/buns\n",
      "1.28023\t0.23547\t0.08897\t0.18393\tpastry\trolls/buns\n",
      "1.27514\t0.23454\t0.10493\t0.18393\ttropical fruit\trolls/buns\n",
      "1.26247\t0.22015\t0.03325\t0.17438\tberries\tsoda\n",
      "1.26116\t0.32225\t0.05806\t0.25552\tcoffee\twhole milk\n",
      "1.25613\t0.24305\t0.03345\t0.19349\tUHT-milk\tother vegetables\n",
      "1.25094\t0.24204\t0.07982\t0.19349\tnewspapers\tother vegetables\n",
      "1.2451\t0.31815\t0.09395\t0.25552\tsausage\twhole milk\n",
      "1.23973\t0.21618\t0.03386\t0.17438\tsugar\tsoda\n",
      "1.22396\t0.22512\t0.04291\t0.18393\tchicken\trolls/buns\n",
      "1.22213\t0.21311\t0.03294\t0.17438\thygiene articles\tsoda\n",
      "1.21706\t0.31098\t0.11052\t0.25552\tbottled water\twhole milk\n",
      "1.21587\t0.23526\t0.09853\t0.19349\tshopping bags\tother vegetables\n",
      "1.21384\t0.22326\t0.05236\t0.18393\tnapkins\trolls/buns\n",
      "1.21207\t0.22294\t0.109\t0.18393\troot vegetables\trolls/buns\n",
      "1.20916\t0.21085\t0.08053\t0.17438\tbottled beer\tsoda\n",
      "1.20495\t0.30789\t0.18393\t0.25552\trolls/buns\twhole milk\n",
      "1.20495\t0.22163\t0.25552\t0.18393\twhole milk\trolls/buns\n",
      "1.19701\t0.23161\t0.18393\t0.19349\trolls/buns\tother vegetables\n",
      "1.19701\t0.22017\t0.19349\t0.18393\tother vegetables\trolls/buns\n",
      "1.19506\t0.21981\t0.17438\t0.18393\tsoda\trolls/buns\n",
      "1.19506\t0.20839\t0.18393\t0.17438\trolls/buns\tsoda\n",
      "1.19458\t0.23114\t0.05806\t0.19349\tcoffee\tother vegetables\n",
      "1.19397\t0.21961\t0.03101\t0.18393\tonions\trolls/buns\n",
      "1.19048\t0.21896\t0.11052\t0.18393\tbottled water\trolls/buns\n",
      "1.18842\t0.20724\t0.0304\t0.17438\tspecialty chocolate\tsoda\n",
      "1.18373\t0.20642\t0.05765\t0.17438\tpork\tsoda\n",
      "1.16929\t0.2039\t0.03742\t0.17438\tlong life bakery product\tsoda\n",
      "1.16019\t0.22448\t0.11052\t0.19349\tbottled water\tother vegetables\n",
      "1.1569\t0.29561\t0.03782\t0.25552\tsalty snack\twhole milk\n",
      "1.15217\t0.21192\t0.03742\t0.18393\tlong life bakery product\trolls/buns\n",
      "1.14978\t0.21148\t0.04809\t0.18393\tfrozen vegetables\trolls/buns\n",
      "1.12719\t0.20732\t0.03386\t0.18393\tsugar\trolls/buns\n",
      "1.11043\t0.20424\t0.07168\t0.18393\twhipped/sour cream\trolls/buns\n",
      "1.10222\t0.20273\t0.08277\t0.18393\tcitrus fruit\trolls/buns\n",
      "1.09354\t0.20113\t0.07229\t0.18393\tfruit/vegetable juice\trolls/buns\n",
      "1.03775\t0.20079\t0.08053\t0.19349\tbottled beer\tother vegetables\n",
      "1.03705\t0.20066\t0.0304\t0.19349\tspecialty chocolate\tother vegetables\n",
      "1.03375\t0.26414\t0.0304\t0.25552\tspecialty chocolate\twhole milk\n",
      "0.99334\t0.25382\t0.08053\t0.25552\tbottled beer\twhole milk\n",
      "0.97313\t0.24866\t0.09853\t0.25552\tshopping bags\twhole milk\n",
      "0.89906\t0.22973\t0.17438\t0.25552\tsoda\twhole milk\n"
     ]
    }
   ],
   "source": [
    "!type A2finaloutput.txt | python filter.py | sort /r"
   ]
  },
  {
   "cell_type": "code",
   "execution_count": 22,
   "metadata": {},
   "outputs": [],
   "source": [
    "!type A2finaloutput.txt | python filter.py | sort /r > A2finalfilteredoutout.txt"
   ]
  }
 ],
 "metadata": {
  "kernelspec": {
   "display_name": "Python 3",
   "language": "python",
   "name": "python3"
  },
  "language_info": {
   "codemirror_mode": {
    "name": "ipython",
    "version": 3
   },
   "file_extension": ".py",
   "mimetype": "text/x-python",
   "name": "python",
   "nbconvert_exporter": "python",
   "pygments_lexer": "ipython3",
   "version": "3.7.6"
  }
 },
 "nbformat": 4,
 "nbformat_minor": 4
}
